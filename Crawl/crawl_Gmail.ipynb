{
  "nbformat": 4,
  "nbformat_minor": 0,
  "metadata": {
    "colab": {
      "provenance": []
    },
    "kernelspec": {
      "name": "python3",
      "display_name": "Python 3"
    },
    "language_info": {
      "name": "python"
    }
  },
  "cells": [
    {
      "cell_type": "code",
      "execution_count": null,
      "metadata": {
        "colab": {
          "base_uri": "https://localhost:8080/"
        },
        "id": "wX052m1D5BHA",
        "outputId": "fd22b8fa-2420-4787-e2e7-7074b106ae1d"
      },
      "outputs": [
        {
          "output_type": "stream",
          "name": "stdout",
          "text": [
            "Requirement already satisfied: chardet in /usr/local/lib/python3.10/dist-packages (5.2.0)\n"
          ]
        }
      ],
      "source": [
        "!pip install chardet"
      ]
    },
    {
      "cell_type": "code",
      "source": [
        "!pip install imaplib"
      ],
      "metadata": {
        "id": "D1NDZDaMF0NH"
      },
      "execution_count": null,
      "outputs": []
    },
    {
      "cell_type": "code",
      "source": [
        "import imaplib\n",
        "import email\n",
        "import base64\n",
        "import chardet"
      ],
      "metadata": {
        "id": "h9lx7DjS5ZIk"
      },
      "execution_count": null,
      "outputs": []
    },
    {
      "cell_type": "code",
      "source": [],
      "metadata": {
        "id": "4O4A8YoPFzxQ"
      },
      "execution_count": null,
      "outputs": []
    },
    {
      "cell_type": "code",
      "source": [
        "def decode_content(content):\n",
        "    result = chardet.detect(content)\n",
        "    encoding = result.get('encoding', 'utf-8')\n",
        "    if encoding is None:\n",
        "        encoding = 'utf-8'\n",
        "    return content.decode(encoding, errors='replace')"
      ],
      "metadata": {
        "id": "dstzovP05ZMr"
      },
      "execution_count": null,
      "outputs": []
    },
    {
      "cell_type": "code",
      "source": [
        "email_address = \"vuhuusytft1@gmail.com\"\n",
        "password = \"eoqr lket wcfe tffy\""
      ],
      "metadata": {
        "id": "vfpEMXSt5ZTa"
      },
      "execution_count": null,
      "outputs": []
    },
    {
      "cell_type": "code",
      "source": [],
      "metadata": {
        "id": "a8x2xEGQEsvP"
      },
      "execution_count": null,
      "outputs": []
    },
    {
      "cell_type": "code",
      "source": [
        "import imaplib\n",
        "import email\n",
        "from email.header import decode_header\n",
        "\n",
        "import os\n",
        "\n",
        "def decode_filename(filename):\n",
        "    decoded_parts = []\n",
        "    for part, encoding in decode_header(filename):\n",
        "        if isinstance(part, bytes):\n",
        "            if encoding:\n",
        "                decoded_parts.append(part.decode(encoding))\n",
        "            else:\n",
        "                decoded_parts.append(part.decode('utf-8'))\n",
        "        else:\n",
        "            decoded_parts.append(part)\n",
        "    decoded_string = ' '.join(decoded_parts)\n",
        "    return decoded_string\n",
        "\n",
        "# Email account credentials\n",
        "email_address = \"vuhuusytft1@gmail.com\"\n",
        "password = \"eoqr lket wcfe tffy\"\n",
        "\n",
        "# IMAP server settings (cho Gmail)\n",
        "imap_server = \"imap.gmail.com\"\n",
        "imap_port = 993\n",
        "\n",
        "imap = imaplib.IMAP4_SSL(imap_server, imap_port)\n",
        "imap.login(email_address, password)\n",
        "\n",
        "imap.select(\"INBOX\")\n",
        "\n",
        "# Search for all emails in the inbox\n",
        "status, email_ids = imap.search(None, \"ALL\")\n",
        "email_ids = email_ids[0].split()\n",
        "\n",
        "for i, email_id in enumerate(email_ids):\n",
        "    status, msg_data = imap.fetch(email_id, \"(RFC822)\")\n",
        "    msg = email.message_from_bytes(msg_data[0][1])\n",
        "\n",
        "    if msg.get_content_subtype() != \"mixed\":\n",
        "        continue\n",
        "    subject, encoding = decode_header(msg[\"Subject\"])[0]\n",
        "    if isinstance(subject, bytes):\n",
        "            subject = subject.decode(encoding or \"utf-8\")\n",
        "    sender = decode_filename(msg[\"From\"])\n",
        "    date = msg.get(\"Date\")\n",
        "\n",
        "    if 'text' in msg.get_content_type():\n",
        "        body = msg.get_payload(decode=True).decode()\n",
        "    if 'multipart' in msg.get_content_type():\n",
        "        for part in msg.walk():\n",
        "            if part.get_content_type() == 'text/plain':\n",
        "                body = part.get_payload(decode=True).decode()\n",
        "\n",
        "    parent_dir = \"/content/mails\"\n",
        "    dirname = subject\n",
        "    save_directory = os.path.join(parent_dir, dirname)\n",
        "    if not os.path.exists(save_directory):\n",
        "        os.makedirs(save_directory)\n",
        "\n",
        "    # write file content\n",
        "    with open(os.path.join(save_directory, 'content.txt'), 'w') as f:\n",
        "        f.write(f\"Subject: {subject}\\n\")\n",
        "        f.write(f\"From: {sender}\\n\")\n",
        "        f.write(f\"Date: {date}\\n\")\n",
        "        f.write(f\"Body: {body}\\n\")\n",
        "    # write attachment files\n",
        "    for part in msg.walk():\n",
        "        content_disposition = part.get(\"Content-Disposition\")\n",
        "        if content_disposition and \"attachment\" in content_disposition:\n",
        "            filename = part.get_filename()\n",
        "            if filename:\n",
        "                filename = decode_filename(filename)\n",
        "                file_path = os.path.join(save_directory, filename)\n",
        "                with open(file_path, \"wb\") as attachment_file:\n",
        "                    attachment_file.write(part.get_payload(decode=True))\n",
        "\n",
        "imap.logout()"
      ],
      "metadata": {
        "colab": {
          "base_uri": "https://localhost:8080/",
          "height": 442
        },
        "id": "dQFueJ9M5ZdM",
        "outputId": "87708a72-f4f1-490b-d6e0-a8c84daf073c"
      },
      "execution_count": null,
      "outputs": [
        {
          "output_type": "error",
          "ename": "abort",
          "evalue": "ignored",
          "traceback": [
            "\u001b[0;31m---------------------------------------------------------------------------\u001b[0m",
            "\u001b[0;31mabort\u001b[0m                                     Traceback (most recent call last)",
            "\u001b[0;32m/usr/lib/python3.10/imaplib.py\u001b[0m in \u001b[0;36m_command_complete\u001b[0;34m(self, name, tag)\u001b[0m\n\u001b[1;32m   1046\u001b[0m         \u001b[0;32mtry\u001b[0m\u001b[0;34m:\u001b[0m\u001b[0;34m\u001b[0m\u001b[0;34m\u001b[0m\u001b[0m\n\u001b[0;32m-> 1047\u001b[0;31m             \u001b[0mtyp\u001b[0m\u001b[0;34m,\u001b[0m \u001b[0mdata\u001b[0m \u001b[0;34m=\u001b[0m \u001b[0mself\u001b[0m\u001b[0;34m.\u001b[0m\u001b[0m_get_tagged_response\u001b[0m\u001b[0;34m(\u001b[0m\u001b[0mtag\u001b[0m\u001b[0;34m,\u001b[0m \u001b[0mexpect_bye\u001b[0m\u001b[0;34m=\u001b[0m\u001b[0mlogout\u001b[0m\u001b[0;34m)\u001b[0m\u001b[0;34m\u001b[0m\u001b[0;34m\u001b[0m\u001b[0m\n\u001b[0m\u001b[1;32m   1048\u001b[0m         \u001b[0;32mexcept\u001b[0m \u001b[0mself\u001b[0m\u001b[0;34m.\u001b[0m\u001b[0mabort\u001b[0m \u001b[0;32mas\u001b[0m \u001b[0mval\u001b[0m\u001b[0;34m:\u001b[0m\u001b[0;34m\u001b[0m\u001b[0;34m\u001b[0m\u001b[0m\n",
            "\u001b[0;32m/usr/lib/python3.10/imaplib.py\u001b[0m in \u001b[0;36m_get_tagged_response\u001b[0;34m(self, tag, expect_bye)\u001b[0m\n\u001b[1;32m   1164\u001b[0m             \u001b[0;31m# closed, so report the BYE now.\u001b[0m\u001b[0;34m\u001b[0m\u001b[0;34m\u001b[0m\u001b[0m\n\u001b[0;32m-> 1165\u001b[0;31m             \u001b[0mself\u001b[0m\u001b[0;34m.\u001b[0m\u001b[0m_check_bye\u001b[0m\u001b[0;34m(\u001b[0m\u001b[0;34m)\u001b[0m\u001b[0;34m\u001b[0m\u001b[0;34m\u001b[0m\u001b[0m\n\u001b[0m\u001b[1;32m   1166\u001b[0m \u001b[0;34m\u001b[0m\u001b[0m\n",
            "\u001b[0;32m/usr/lib/python3.10/imaplib.py\u001b[0m in \u001b[0;36m_check_bye\u001b[0;34m(self)\u001b[0m\n\u001b[1;32m    960\u001b[0m         \u001b[0;32mif\u001b[0m \u001b[0mbye\u001b[0m\u001b[0;34m:\u001b[0m\u001b[0;34m\u001b[0m\u001b[0;34m\u001b[0m\u001b[0m\n\u001b[0;32m--> 961\u001b[0;31m             \u001b[0;32mraise\u001b[0m \u001b[0mself\u001b[0m\u001b[0;34m.\u001b[0m\u001b[0mabort\u001b[0m\u001b[0;34m(\u001b[0m\u001b[0mbye\u001b[0m\u001b[0;34m[\u001b[0m\u001b[0;34m-\u001b[0m\u001b[0;36m1\u001b[0m\u001b[0;34m]\u001b[0m\u001b[0;34m.\u001b[0m\u001b[0mdecode\u001b[0m\u001b[0;34m(\u001b[0m\u001b[0mself\u001b[0m\u001b[0;34m.\u001b[0m\u001b[0m_encoding\u001b[0m\u001b[0;34m,\u001b[0m \u001b[0;34m'replace'\u001b[0m\u001b[0;34m)\u001b[0m\u001b[0;34m)\u001b[0m\u001b[0;34m\u001b[0m\u001b[0;34m\u001b[0m\u001b[0m\n\u001b[0m\u001b[1;32m    962\u001b[0m \u001b[0;34m\u001b[0m\u001b[0m\n",
            "\u001b[0;31mabort\u001b[0m: System Error",
            "\nDuring handling of the above exception, another exception occurred:\n",
            "\u001b[0;31mabort\u001b[0m                                     Traceback (most recent call last)",
            "\u001b[0;32m<ipython-input-22-2c7b28c82a8b>\u001b[0m in \u001b[0;36m<cell line: 37>\u001b[0;34m()\u001b[0m\n\u001b[1;32m     36\u001b[0m \u001b[0;34m\u001b[0m\u001b[0m\n\u001b[1;32m     37\u001b[0m \u001b[0;32mfor\u001b[0m \u001b[0mi\u001b[0m\u001b[0;34m,\u001b[0m \u001b[0memail_id\u001b[0m \u001b[0;32min\u001b[0m \u001b[0menumerate\u001b[0m\u001b[0;34m(\u001b[0m\u001b[0memail_ids\u001b[0m\u001b[0;34m)\u001b[0m\u001b[0;34m:\u001b[0m\u001b[0;34m\u001b[0m\u001b[0;34m\u001b[0m\u001b[0m\n\u001b[0;32m---> 38\u001b[0;31m     \u001b[0mstatus\u001b[0m\u001b[0;34m,\u001b[0m \u001b[0mmsg_data\u001b[0m \u001b[0;34m=\u001b[0m \u001b[0mimap\u001b[0m\u001b[0;34m.\u001b[0m\u001b[0mfetch\u001b[0m\u001b[0;34m(\u001b[0m\u001b[0memail_id\u001b[0m\u001b[0;34m,\u001b[0m \u001b[0;34m\"(RFC822)\"\u001b[0m\u001b[0;34m)\u001b[0m\u001b[0;34m\u001b[0m\u001b[0;34m\u001b[0m\u001b[0m\n\u001b[0m\u001b[1;32m     39\u001b[0m     \u001b[0mmsg\u001b[0m \u001b[0;34m=\u001b[0m \u001b[0memail\u001b[0m\u001b[0;34m.\u001b[0m\u001b[0mmessage_from_bytes\u001b[0m\u001b[0;34m(\u001b[0m\u001b[0mmsg_data\u001b[0m\u001b[0;34m[\u001b[0m\u001b[0;36m0\u001b[0m\u001b[0;34m]\u001b[0m\u001b[0;34m[\u001b[0m\u001b[0;36m1\u001b[0m\u001b[0;34m]\u001b[0m\u001b[0;34m)\u001b[0m\u001b[0;34m\u001b[0m\u001b[0;34m\u001b[0m\u001b[0m\n\u001b[1;32m     40\u001b[0m \u001b[0;34m\u001b[0m\u001b[0m\n",
            "\u001b[0;32m/usr/lib/python3.10/imaplib.py\u001b[0m in \u001b[0;36mfetch\u001b[0;34m(self, message_set, message_parts)\u001b[0m\n\u001b[1;32m    546\u001b[0m         \"\"\"\n\u001b[1;32m    547\u001b[0m         \u001b[0mname\u001b[0m \u001b[0;34m=\u001b[0m \u001b[0;34m'FETCH'\u001b[0m\u001b[0;34m\u001b[0m\u001b[0;34m\u001b[0m\u001b[0m\n\u001b[0;32m--> 548\u001b[0;31m         \u001b[0mtyp\u001b[0m\u001b[0;34m,\u001b[0m \u001b[0mdat\u001b[0m \u001b[0;34m=\u001b[0m \u001b[0mself\u001b[0m\u001b[0;34m.\u001b[0m\u001b[0m_simple_command\u001b[0m\u001b[0;34m(\u001b[0m\u001b[0mname\u001b[0m\u001b[0;34m,\u001b[0m \u001b[0mmessage_set\u001b[0m\u001b[0;34m,\u001b[0m \u001b[0mmessage_parts\u001b[0m\u001b[0;34m)\u001b[0m\u001b[0;34m\u001b[0m\u001b[0;34m\u001b[0m\u001b[0m\n\u001b[0m\u001b[1;32m    549\u001b[0m         \u001b[0;32mreturn\u001b[0m \u001b[0mself\u001b[0m\u001b[0;34m.\u001b[0m\u001b[0m_untagged_response\u001b[0m\u001b[0;34m(\u001b[0m\u001b[0mtyp\u001b[0m\u001b[0;34m,\u001b[0m \u001b[0mdat\u001b[0m\u001b[0;34m,\u001b[0m \u001b[0mname\u001b[0m\u001b[0;34m)\u001b[0m\u001b[0;34m\u001b[0m\u001b[0;34m\u001b[0m\u001b[0m\n\u001b[1;32m    550\u001b[0m \u001b[0;34m\u001b[0m\u001b[0m\n",
            "\u001b[0;32m/usr/lib/python3.10/imaplib.py\u001b[0m in \u001b[0;36m_simple_command\u001b[0;34m(self, name, *args)\u001b[0m\n\u001b[1;32m   1228\u001b[0m     \u001b[0;32mdef\u001b[0m \u001b[0m_simple_command\u001b[0m\u001b[0;34m(\u001b[0m\u001b[0mself\u001b[0m\u001b[0;34m,\u001b[0m \u001b[0mname\u001b[0m\u001b[0;34m,\u001b[0m \u001b[0;34m*\u001b[0m\u001b[0margs\u001b[0m\u001b[0;34m)\u001b[0m\u001b[0;34m:\u001b[0m\u001b[0;34m\u001b[0m\u001b[0;34m\u001b[0m\u001b[0m\n\u001b[1;32m   1229\u001b[0m \u001b[0;34m\u001b[0m\u001b[0m\n\u001b[0;32m-> 1230\u001b[0;31m         \u001b[0;32mreturn\u001b[0m \u001b[0mself\u001b[0m\u001b[0;34m.\u001b[0m\u001b[0m_command_complete\u001b[0m\u001b[0;34m(\u001b[0m\u001b[0mname\u001b[0m\u001b[0;34m,\u001b[0m \u001b[0mself\u001b[0m\u001b[0;34m.\u001b[0m\u001b[0m_command\u001b[0m\u001b[0;34m(\u001b[0m\u001b[0mname\u001b[0m\u001b[0;34m,\u001b[0m \u001b[0;34m*\u001b[0m\u001b[0margs\u001b[0m\u001b[0;34m)\u001b[0m\u001b[0;34m)\u001b[0m\u001b[0;34m\u001b[0m\u001b[0;34m\u001b[0m\u001b[0m\n\u001b[0m\u001b[1;32m   1231\u001b[0m \u001b[0;34m\u001b[0m\u001b[0m\n\u001b[1;32m   1232\u001b[0m \u001b[0;34m\u001b[0m\u001b[0m\n",
            "\u001b[0;32m/usr/lib/python3.10/imaplib.py\u001b[0m in \u001b[0;36m_command_complete\u001b[0;34m(self, name, tag)\u001b[0m\n\u001b[1;32m   1047\u001b[0m             \u001b[0mtyp\u001b[0m\u001b[0;34m,\u001b[0m \u001b[0mdata\u001b[0m \u001b[0;34m=\u001b[0m \u001b[0mself\u001b[0m\u001b[0;34m.\u001b[0m\u001b[0m_get_tagged_response\u001b[0m\u001b[0;34m(\u001b[0m\u001b[0mtag\u001b[0m\u001b[0;34m,\u001b[0m \u001b[0mexpect_bye\u001b[0m\u001b[0;34m=\u001b[0m\u001b[0mlogout\u001b[0m\u001b[0;34m)\u001b[0m\u001b[0;34m\u001b[0m\u001b[0;34m\u001b[0m\u001b[0m\n\u001b[1;32m   1048\u001b[0m         \u001b[0;32mexcept\u001b[0m \u001b[0mself\u001b[0m\u001b[0;34m.\u001b[0m\u001b[0mabort\u001b[0m \u001b[0;32mas\u001b[0m \u001b[0mval\u001b[0m\u001b[0;34m:\u001b[0m\u001b[0;34m\u001b[0m\u001b[0;34m\u001b[0m\u001b[0m\n\u001b[0;32m-> 1049\u001b[0;31m             \u001b[0;32mraise\u001b[0m \u001b[0mself\u001b[0m\u001b[0;34m.\u001b[0m\u001b[0mabort\u001b[0m\u001b[0;34m(\u001b[0m\u001b[0;34m'command: %s => %s'\u001b[0m \u001b[0;34m%\u001b[0m \u001b[0;34m(\u001b[0m\u001b[0mname\u001b[0m\u001b[0;34m,\u001b[0m \u001b[0mval\u001b[0m\u001b[0;34m)\u001b[0m\u001b[0;34m)\u001b[0m\u001b[0;34m\u001b[0m\u001b[0;34m\u001b[0m\u001b[0m\n\u001b[0m\u001b[1;32m   1050\u001b[0m         \u001b[0;32mexcept\u001b[0m \u001b[0mself\u001b[0m\u001b[0;34m.\u001b[0m\u001b[0merror\u001b[0m \u001b[0;32mas\u001b[0m \u001b[0mval\u001b[0m\u001b[0;34m:\u001b[0m\u001b[0;34m\u001b[0m\u001b[0;34m\u001b[0m\u001b[0m\n\u001b[1;32m   1051\u001b[0m             \u001b[0;32mraise\u001b[0m \u001b[0mself\u001b[0m\u001b[0;34m.\u001b[0m\u001b[0merror\u001b[0m\u001b[0;34m(\u001b[0m\u001b[0;34m'command: %s => %s'\u001b[0m \u001b[0;34m%\u001b[0m \u001b[0;34m(\u001b[0m\u001b[0mname\u001b[0m\u001b[0;34m,\u001b[0m \u001b[0mval\u001b[0m\u001b[0;34m)\u001b[0m\u001b[0;34m)\u001b[0m\u001b[0;34m\u001b[0m\u001b[0;34m\u001b[0m\u001b[0m\n",
            "\u001b[0;31mabort\u001b[0m: command: FETCH => System Error"
          ]
        }
      ]
    },
    {
      "cell_type": "markdown",
      "source": [
        "# **Alert:** Không nghịch từ phần này đổ đi"
      ],
      "metadata": {
        "id": "SIXVwPEME5Zf"
      }
    },
    {
      "cell_type": "code",
      "source": [
        "from __future__ import print_function\n",
        "import pickle\n",
        "import os.path\n",
        "import time\n",
        "from googleapiclient.discovery import build\n",
        "from google_auth_oauthlib.flow import InstalledAppFlow\n",
        "from google.auth.transport.requests import Request\n",
        "import pandas as pd\n",
        "import csv\n",
        "import base64"
      ],
      "metadata": {
        "id": "Eg9PTToKE1I_"
      },
      "execution_count": null,
      "outputs": []
    },
    {
      "cell_type": "code",
      "source": [
        "if os.path.exists('token.pickle'):\n",
        "    with open('token.pickle', 'rb') as token:\n",
        "        creds = pickle.load(token)\n"
      ],
      "metadata": {
        "id": "fPnyRzv7Evtf"
      },
      "execution_count": null,
      "outputs": []
    },
    {
      "cell_type": "code",
      "source": [
        "if not creds or not creds.valid:\n",
        "    if creds and creds.expired and creds.refresh_token:\n",
        "        creds.refresh(Request())\n",
        "    else:\n",
        "        flow = InstalledAppFlow.from_client_secrets_file(\n",
        "            'credentials.json', SCOPES)\n",
        "        creds = flow.run_local_server(port=0)\n",
        "    # Save the credentials for the next run\n",
        "    with open('token.pickle', 'wb') as token:\n",
        "        pickle.dump(creds, token)\n"
      ],
      "metadata": {
        "id": "SdcbTdthEtvA"
      },
      "execution_count": null,
      "outputs": []
    },
    {
      "cell_type": "code",
      "source": [
        "import quopri\n",
        "\n",
        "encoded_text = \"=?UTF-8?Q?=E2=80=9Cdata_engineer=E2=80=9D:_C=C3=B4ng_ty?=\"\n",
        "\n",
        "decoded_text = quopri.decodestring(encoded_text).decode('utf-8')\n",
        "print(decoded_text)\n"
      ],
      "metadata": {
        "colab": {
          "base_uri": "https://localhost:8080/"
        },
        "id": "uG8TNOgXGaNP",
        "outputId": "a66abe0b-d5ac-4997-fe37-735ffe4881d3"
      },
      "execution_count": null,
      "outputs": [
        {
          "output_type": "stream",
          "name": "stdout",
          "text": [
            "=?UTF-8?Q?“data_engineer”:_Công_ty?\n"
          ]
        }
      ]
    }
  ]
}